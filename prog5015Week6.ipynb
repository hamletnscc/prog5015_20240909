{
 "cells": [
  {
   "cell_type": "code",
   "execution_count": null,
   "id": "45ec0d1e-f866-4646-9b9e-63081e46e73f",
   "metadata": {},
   "outputs": [],
   "source": [
    "# External module imports\n",
    "import RPi.GPIO as GPIO\n",
    "import time\n",
    "\n",
    "# Pin Definitons:\n",
    "ledPin = 17 # Broadcom pin 17 (P1 pin 11)\n",
    "\n",
    "\n",
    "GPIO.setmode(GPIO.BCM) # Broadcom pin-numbering scheme\n",
    "GPIO.setup(ledPin, GPIO.OUT) # LED pin set as output\n",
    "#GPIO.setup(butPin, GPIO.IN, pull_up_down=GPIO.PUD_UP) # Button pin set as input w/ pull-up\n",
    "\n",
    "# Initial state for LEDs:\n",
    "GPIO.output(ledPin, GPIO.LOW)\n",
    "\n",
    "while True:\n",
    "    GPIO.output(ledPin, GPIO.HIGH)\n",
    "    time.sleep(1)\n",
    "    GPIO.output(ledPin, GPIO.LOW)\n",
    "    time.sleep(1)\n"
   ]
  }
 ],
 "metadata": {
  "kernelspec": {
   "display_name": "Python 3 (ipykernel)",
   "language": "python",
   "name": "python3"
  },
  "language_info": {
   "codemirror_mode": {
    "name": "ipython",
    "version": 3
   },
   "file_extension": ".py",
   "mimetype": "text/x-python",
   "name": "python",
   "nbconvert_exporter": "python",
   "pygments_lexer": "ipython3",
   "version": "3.9.2"
  }
 },
 "nbformat": 4,
 "nbformat_minor": 5
}
