{
 "cells": [
  {
   "cell_type": "code",
   "execution_count": null,
   "id": "45ec0d1e-f866-4646-9b9e-63081e46e73f",
   "metadata": {},
   "outputs": [],
   "source": [
    "# External module imports\n",
    "import RPi.GPIO as GPIO\n",
    "import time\n",
    "\n",
    "# Pin Definitons:\n",
    "ledPin = 17 # Broadcom pin 17 (P1 pin 11)\n",
    "\n",
    "\n",
    "GPIO.setmode(GPIO.BCM) # Broadcom pin-numbering scheme\n",
    "GPIO.setup(ledPin, GPIO.OUT) # LED pin set as output\n",
    "#GPIO.setup(butPin, GPIO.IN, pull_up_down=GPIO.PUD_UP) # Button pin set as input w/ pull-up\n",
    "\n",
    "# Initial state for LEDs:\n",
    "GPIO.output(ledPin, GPIO.LOW)\n",
    "\n",
    "while True:\n",
    "    GPIO.output(ledPin, GPIO.HIGH)\n",
    "    time.sleep(1)\n",
    "    GPIO.output(ledPin, GPIO.LOW)\n",
    "    time.sleep(1)\n"
   ]
  },
  {
   "cell_type": "code",
   "execution_count": 3,
   "id": "c16ea583-5304-4eb5-92f9-1ba672c3884b",
   "metadata": {},
   "outputs": [],
   "source": [
    "#Basic function in Python\n",
    "# f(x) = x + 10\n",
    "# f(5) = 15\n",
    "# f(x, y) = x + y\n",
    "# f(x = 1, y = 2) = 1 + 2 = 3"
   ]
  },
  {
   "cell_type": "code",
   "execution_count": 8,
   "id": "e1302096-261f-4598-aa23-e2d154b9433d",
   "metadata": {},
   "outputs": [
    {
     "name": "stdout",
     "output_type": "stream",
     "text": [
      "Hamlet Hamlet\n"
     ]
    }
   ],
   "source": [
    "def my_function(fname=\"Hamlet\", lname=\"\"):\n",
    "  print(fname + \" \" + lname)\n",
    "\n",
    "my_function(lname = \"Hamlet\")"
   ]
  },
  {
   "cell_type": "code",
   "execution_count": 16,
   "id": "b4f5d20d-0747-4e27-b00a-9ab0344e17fa",
   "metadata": {},
   "outputs": [],
   "source": [
    "#passing list/obj\n",
    "def list_func(aList):\n",
    "    #print(type(aList))\n",
    "    if type(aList) is list:\n",
    "        for item in aList:\n",
    "            print(item)\n",
    "the_list = [\"Hamlet\", \"Lin\", \"Here\"]\n",
    "list_func(12)"
   ]
  },
  {
   "cell_type": "code",
   "execution_count": 21,
   "id": "b15a832a-e094-4381-8baf-2c1383cdfa50",
   "metadata": {},
   "outputs": [
    {
     "name": "stdout",
     "output_type": "stream",
     "text": [
      "13\n"
     ]
    }
   ],
   "source": [
    "def add(val1, val2):\n",
    "    return val1 + val2\n",
    "\n",
    "def add10(x):\n",
    "    return x+10\n",
    "print(add10(add(1, 2)))"
   ]
  },
  {
   "cell_type": "code",
   "execution_count": 24,
   "id": "bffd9040-fc00-4ff4-8d11-eeb624dc3962",
   "metadata": {},
   "outputs": [
    {
     "name": "stdout",
     "output_type": "stream",
     "text": [
      "6\n"
     ]
    }
   ],
   "source": [
    "def multiply(*args):\n",
    "    result = 1\n",
    "    for num in args:\n",
    "        result *= num\n",
    "    return result\n",
    "print(multiply(1, 2, 3))"
   ]
  },
  {
   "cell_type": "code",
   "execution_count": 33,
   "id": "7a7b50ae-b7fa-4537-a0d2-3e4d41b1a94c",
   "metadata": {},
   "outputs": [
    {
     "name": "stdout",
     "output_type": "stream",
     "text": [
      "Name: Charlie, Email: charlie@email.com, Age: 10, Year: 2024\n"
     ]
    }
   ],
   "source": [
    "def display_data(age, year=2024, **kwargs):\n",
    "    print(f\"Name: {kwargs.get('name', 'N/A')}, Email: {kwargs.get('email', 'N/A')}, Age: {age}, Year: {year}\")\n",
    "\n",
    "# Test the function\n",
    "display_data(age=10, name=\"Charlie\", email=\"charlie@email.com\")  # Expected Output: \"Name: Charlie, Email: charlie@email.com\""
   ]
  },
  {
   "cell_type": "code",
   "execution_count": 38,
   "id": "52a3f4e2-fac5-42ee-8c37-7e3520962be6",
   "metadata": {},
   "outputs": [
    {
     "ename": "NameError",
     "evalue": "name 'inner' is not defined",
     "output_type": "error",
     "traceback": [
      "\u001b[0;31m---------------------------------------------------------------------------\u001b[0m",
      "\u001b[0;31mNameError\u001b[0m                                 Traceback (most recent call last)",
      "Cell \u001b[0;32mIn[38], line 6\u001b[0m\n\u001b[1;32m      3\u001b[0m         \u001b[38;5;28mprint\u001b[39m(\u001b[38;5;124m\"\u001b[39m\u001b[38;5;124mInner function!\u001b[39m\u001b[38;5;124m\"\u001b[39m)\n\u001b[1;32m      4\u001b[0m     inner()\n\u001b[0;32m----> 6\u001b[0m \u001b[43minner\u001b[49m()\n",
      "\u001b[0;31mNameError\u001b[0m: name 'inner' is not defined"
     ]
    }
   ],
   "source": [
    "def outer():\n",
    "    def inner():\n",
    "        print(\"Inner function!\")\n",
    "    inner()\n",
    "\n",
    "inner()"
   ]
  },
  {
   "cell_type": "code",
   "execution_count": 40,
   "id": "95a96648-b14c-4f52-b05e-70fa5913a724",
   "metadata": {},
   "outputs": [
    {
     "name": "stdout",
     "output_type": "stream",
     "text": [
      "16\n",
      "25\n"
     ]
    }
   ],
   "source": [
    "square = lambda x: x**2\n",
    "\n",
    "# Test the function\n",
    "print(square(4))  # Expected Output: 16\n",
    "print(square(5))  # Expected Output: 16"
   ]
  },
  {
   "cell_type": "code",
   "execution_count": 41,
   "id": "592a723b-dc8e-493c-8260-11af7bd411c0",
   "metadata": {},
   "outputs": [
    {
     "name": "stdout",
     "output_type": "stream",
     "text": [
      "Hello!\n"
     ]
    }
   ],
   "source": [
    "def execute(func):\n",
    "    func()\n",
    "\n",
    "def say_hello():\n",
    "    print(\"Hello!\")\n",
    "\n",
    "# Test the function\n",
    "execute(say_hello)   # Expected Output: \"Hello!\""
   ]
  },
  {
   "cell_type": "code",
   "execution_count": null,
   "id": "c50779f6-3083-47d7-af59-0ddff5e122bd",
   "metadata": {},
   "outputs": [],
   "source": [
    "def factorial(n):\n",
    "    if n == 1:\n",
    "        return 1\n",
    "    else:\n",
    "        return n * factorial(n-1)\n",
    "\n",
    "# Test the function\n",
    "print(factorial(5))   # Expected Output: 120"
   ]
  },
  {
   "cell_type": "code",
   "execution_count": null,
   "id": "320c60eb-4c80-45ed-b05f-dd9b8e0adc32",
   "metadata": {},
   "outputs": [],
   "source": [
    "def subtract(a, b):\n",
    "    \"\"\"\n",
    "    Returns the result of subtracting b from a.\n",
    "    \"\"\"\n",
    "    return a - b\n",
    "\n",
    "# Test the function\n",
    "print(subtract(10, 6))   # Expected Output: 4"
   ]
  },
  {
   "cell_type": "code",
   "execution_count": 50,
   "id": "7a82c175-3aad-41c5-afc8-c4da9f3a3f9a",
   "metadata": {},
   "outputs": [
    {
     "name": "stdout",
     "output_type": "stream",
     "text": [
      "Help on function square in module __main__:\n",
      "\n",
      "square(n)\n",
      "    Take a number n and return the square of n.\n",
      "\n"
     ]
    }
   ],
   "source": [
    "#docstrings for referencing\n",
    "def square(n):\n",
    "    '''Take a number n and return the square of n.'''\n",
    "    return n**2\n",
    "help(square)"
   ]
  },
  {
   "cell_type": "code",
   "execution_count": null,
   "id": "c1d9969e-3ee0-4dc4-8adf-54ac0f530ac3",
   "metadata": {},
   "outputs": [],
   "source": []
  }
 ],
 "metadata": {
  "kernelspec": {
   "display_name": "Python 3 (ipykernel)",
   "language": "python",
   "name": "python3"
  },
  "language_info": {
   "codemirror_mode": {
    "name": "ipython",
    "version": 3
   },
   "file_extension": ".py",
   "mimetype": "text/x-python",
   "name": "python",
   "nbconvert_exporter": "python",
   "pygments_lexer": "ipython3",
   "version": "3.9.2"
  }
 },
 "nbformat": 4,
 "nbformat_minor": 5
}
