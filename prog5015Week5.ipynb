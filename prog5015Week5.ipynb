{
 "cells": [
  {
   "cell_type": "markdown",
   "id": "902a093b-1ab1-45b1-b2c0-ee228d50fdef",
   "metadata": {},
   "source": [
    "Week 5- Complex data structures- list, tuples, sets, dictionaries and DataFrames"
   ]
  },
  {
   "cell_type": "code",
   "execution_count": 13,
   "id": "0e0900b5-b71e-478c-b96b-7f4b56b39302",
   "metadata": {},
   "outputs": [],
   "source": [
    "#declare a single input/output pin\n",
    "import adafruit_ssd1306\n",
    "import board\n",
    "import busio\n",
    "import digitalio\n",
    "from PIL import Image, ImageDraw, ImageFont\n",
    "import adafruit_ssd1306\n",
    "import time\n",
    "\n",
    "#create a list to store all leds reference\n",
    "leds = []\n",
    "for i in range(0, 4):\n",
    "    ledRef = digitalio.DigitalInOut(eval('board.'+dir(board)[i]))\n",
    "    ledRef.direction = digitalio.Direction.OUTPUT\n",
    "    leds.append(ledRef)\n",
    "\n",
    "leds[0].value = False"
   ]
  },
  {
   "cell_type": "markdown",
   "id": "4a798eda-a57f-4f8c-a7bb-e01363443df4",
   "metadata": {},
   "source": [
    "Tuple in Python"
   ]
  },
  {
   "cell_type": "code",
   "execution_count": 32,
   "id": "bb12387e-5318-40b0-a3bc-a1d34b08b8f0",
   "metadata": {},
   "outputs": [
    {
     "name": "stdout",
     "output_type": "stream",
     "text": [
      "88\n",
      "72\n",
      "[((10, 20), (5, 10), (15, 10)), ((10, 20), (5, 10), (15, 10)), ((10, 20), (5, 10), (15, 10))]\n",
      "(((10, 20), (5, 10), (15, 10)), ((10, 20), (5, 10), (15, 10)), ((10, 20), (5, 10), (15, 10)))\n",
      "[((10, 20), (5, 10), (15, 10)), ((10, 20), (5, 10), (15, 10)), ((10, 20), (5, 10), (15, 10))]\n"
     ]
    }
   ],
   "source": [
    "import sys\n",
    "triangleCoodinate = (30, 20)\n",
    "\n",
    "aList = [1, 2, 3, 4]\n",
    "aTuple = (1, 2, 3, 4)\n",
    "\n",
    "print(sys.getsizeof(aList))\n",
    "print(sys.getsizeof(aTuple))\n",
    "\n",
    "a_triangle = ((10, 20), (5, 10), (15, 10)) #use nested tuples\n",
    "triangles = [((10, 20), (5, 10), (15, 10)), ((10, 20), (5, 10), (15, 10))]\n",
    "triangles.append(((10, 20), (5, 10), (15, 10)))\n",
    "print(triangles)\n",
    "triangles_tuple = tuple(triangles)\n",
    "print(triangles_tuple)\n",
    "triangles_list = list(triangles_tuple)\n",
    "print(triangles_list)"
   ]
  },
  {
   "cell_type": "markdown",
   "id": "eadfe1bc-0210-4e25-913e-760498ce75a3",
   "metadata": {},
   "source": [
    "Set operations"
   ]
  },
  {
   "cell_type": "code",
   "execution_count": 39,
   "id": "1731f2fd-e0d1-4dbc-acab-4e5777572422",
   "metadata": {},
   "outputs": [
    {
     "name": "stdout",
     "output_type": "stream",
     "text": [
      "{1, 2, 3, 4, 5}\n",
      "{1, 2, 3, 4, 5}\n",
      "6\n"
     ]
    }
   ],
   "source": [
    "set1 = {1, 2, 3, 4, 5}\n",
    "print(set1)\n",
    "set1.add(2)\n",
    "print(set1)\n",
    "set1.add(6)\n",
    "print(len(set1))"
   ]
  },
  {
   "cell_type": "code",
   "execution_count": 71,
   "id": "0c94b9a9-5041-4b8c-9e27-baae5ec15e8c",
   "metadata": {},
   "outputs": [
    {
     "name": "stdout",
     "output_type": "stream",
     "text": [
      "<class 'dict'>\n"
     ]
    },
    {
     "ename": "AttributeError",
     "evalue": "'dict' object has no attribute 'remove'",
     "output_type": "error",
     "traceback": [
      "\u001b[1;31m---------------------------------------------------------------------------\u001b[0m",
      "\u001b[1;31mAttributeError\u001b[0m                            Traceback (most recent call last)",
      "Cell \u001b[1;32mIn[71], line 5\u001b[0m\n\u001b[0;32m      3\u001b[0m randomNums \u001b[38;5;241m=\u001b[39m {}\n\u001b[0;32m      4\u001b[0m \u001b[38;5;28mprint\u001b[39m(\u001b[38;5;28mtype\u001b[39m(randomNums))\n\u001b[1;32m----> 5\u001b[0m \u001b[43mrandomNums\u001b[49m\u001b[38;5;241;43m.\u001b[39;49m\u001b[43mremove\u001b[49m(\u001b[38;5;241m1\u001b[39m)\n\u001b[0;32m      6\u001b[0m \u001b[38;5;28;01mwhile\u001b[39;00m (\u001b[38;5;28mlen\u001b[39m(randomNums)\u001b[38;5;241m<\u001b[39m\u001b[38;5;241m10\u001b[39m):    \n\u001b[0;32m      7\u001b[0m     randomNums\u001b[38;5;241m.\u001b[39madd(randint(\u001b[38;5;241m0\u001b[39m, \u001b[38;5;241m100\u001b[39m))\n",
      "\u001b[1;31mAttributeError\u001b[0m: 'dict' object has no attribute 'remove'"
     ]
    }
   ],
   "source": [
    "from random import randint\n",
    "#create 10 random number\n",
    "randomNums = {1}\n",
    "print(type(randomNums))\n",
    "randomNums.remove(1)\n",
    "while (len(randomNums)<10):    \n",
    "    randomNums.add(randint(0, 100))\n",
    "print(randomNums)"
   ]
  },
  {
   "cell_type": "markdown",
   "id": "fedb32ee-a8b8-4012-be03-43b5e04a95b4",
   "metadata": {},
   "source": [
    "set operations"
   ]
  },
  {
   "cell_type": "code",
   "execution_count": 70,
   "id": "43960573-a399-4883-be50-d00bb094633a",
   "metadata": {},
   "outputs": [
    {
     "name": "stdout",
     "output_type": "stream",
     "text": [
      "{1, 2, 3, 4, 5, 6, 8, 10}\n",
      "{2, 4}\n",
      "True\n",
      "True\n"
     ]
    }
   ],
   "source": [
    "set1 = {1,2,3,4,5}\n",
    "set2 = {2,4,6,8,10}\n",
    "set3 = set1.union(set2)\n",
    "print(set3)\n",
    "set3 = set1.intersection(set2)\n",
    "print(set3)\n",
    "print(4 in set2)\n",
    "print (\"be\" in \"to be or not to be\")"
   ]
  },
  {
   "cell_type": "markdown",
   "id": "f50c79b3-13a0-4427-a085-e88509319ac6",
   "metadata": {},
   "source": [
    "Dictionary data strcuture"
   ]
  },
  {
   "cell_type": "code",
   "execution_count": 85,
   "id": "33a6833d-6dfa-49e2-a350-3f8792c0d685",
   "metadata": {},
   "outputs": [
    {
     "name": "stdout",
     "output_type": "stream",
     "text": [
      "name\n",
      "Hamlet\n",
      "age\n",
      "18\n",
      "language\n",
      "eng\n"
     ]
    }
   ],
   "source": [
    "student= {\n",
    "    \"name\": \"Hamlet\",\n",
    "    \"age\" : 18,\n",
    "    \"language\": \"eng\"\n",
    "}\n",
    "\n",
    "student2= {\n",
    "    \"name\": \"Hamlet2\",\n",
    "    \"age\" : 28,\n",
    "    \"language\": \"cantonese\"\n",
    "}\n",
    "\n",
    "students = [student, student2]\n",
    "#print(students[1][\"name\"])\n",
    "for key in students[0]:\n",
    "    print(key)\n",
    "    print(students[0][key])\n"
   ]
  },
  {
   "cell_type": "markdown",
   "id": "e44abc0a-1af7-4361-8709-222a86fb096a",
   "metadata": {},
   "source": [
    "Pandas Data Frame"
   ]
  },
  {
   "cell_type": "code",
   "execution_count": 27,
   "id": "a85ce581-9035-4294-93bf-13c373206bb6",
   "metadata": {},
   "outputs": [
    {
     "name": "stdout",
     "output_type": "stream",
     "text": [
      "         calories  duration\n",
      "run           420        50\n",
      "jogging       380        40\n",
      "run           390        45\n",
      "#####\n",
      "     calories  duration\n",
      "run       420        50\n",
      "run       390        45\n"
     ]
    }
   ],
   "source": [
    "import pandas as pd\n",
    "\n",
    "data = {\n",
    "  \"calories\": [420, 380, 390],\n",
    "  \"duration\": [50, 40, 45]\n",
    "}\n",
    "\n",
    "#load data into a DataFrame object:\n",
    "#print(data[0])\n",
    "df = pd.DataFrame(data, index = [\"run\", \"jogging\", \"run\"])\n",
    "print(df)\n",
    "print(\"#####\")\n",
    "print(df.loc[[\"run\"]]) "
   ]
  },
  {
   "cell_type": "markdown",
   "id": "2866803e-9f7b-40b8-8515-f7c4f25e6372",
   "metadata": {},
   "source": [
    "Reading JSON"
   ]
  },
  {
   "cell_type": "code",
   "execution_count": 29,
   "id": "73b373af-a30c-4576-be30-977a66aafea3",
   "metadata": {},
   "outputs": [
    {
     "name": "stdout",
     "output_type": "stream",
     "text": [
      "   Duration  Pulse  Maxpulse  Calories\n",
      "0        60    110       130     409.0\n",
      "1        60    117       145     479.0\n",
      "2        60    103       135     340.0\n",
      "3        45    109       175     282.0\n",
      "4        45    117       148     406.0\n",
      "5        60    102       127       NaN\n"
     ]
    }
   ],
   "source": [
    "import pandas as pd\n",
    "\n",
    "data = {\n",
    "  \"Duration\":{\n",
    "    \"0\":60,\n",
    "    \"1\":60,\n",
    "    \"2\":60,\n",
    "    \"3\":45,\n",
    "    \"4\":45,\n",
    "    \"5\":60\n",
    "  },\n",
    "  \"Pulse\":{\n",
    "    \"0\":110,\n",
    "    \"1\":117,\n",
    "    \"2\":103,\n",
    "    \"3\":109,\n",
    "    \"4\":117,\n",
    "    \"5\":102\n",
    "  },\n",
    "  \"Maxpulse\":{\n",
    "    \"0\":130,\n",
    "    \"1\":145,\n",
    "    \"2\":135,\n",
    "    \"3\":175,\n",
    "    \"4\":148,\n",
    "    \"5\":127\n",
    "  },\n",
    "  \"Calories\":{\n",
    "    \"0\":409,\n",
    "    \"1\":479,\n",
    "    \"2\":340,\n",
    "    \"3\":282,\n",
    "    \"4\":406,\n",
    "    \n",
    "  }\n",
    "}\n",
    "\n",
    "df = pd.DataFrame(data)\n",
    "\n",
    "print(df) "
   ]
  },
  {
   "cell_type": "code",
   "execution_count": 55,
   "id": "179852b4-8b00-4188-97ce-eee8573380c5",
   "metadata": {},
   "outputs": [
    {
     "name": "stdout",
     "output_type": "stream",
     "text": [
      "      Rk             Player Pos  Age   Tm   G  GS    MP    FG   FGA  ...  \\\n",
      "30    23        LaMelo Ball  PG   22  CHO  22  22  32.3   8.3  19.2  ...   \n",
      "171  128        Luka Don?i?  PG   24  DAL  70  70  37.5  11.5  23.6  ...   \n",
      "265  196  Tyrese Haliburton  PG   23  IND  69  68  32.2   7.2  15.2  ...   \n",
      "268  199       James Harden  PG   34  LAC  72  72  34.3   4.9  11.4  ...   \n",
      "325  250       LeBron James  PF   39  LAL  71  71  35.3   9.6  17.9  ...   \n",
      "340  263       Nikola Joki?   C   28  DEN  79  79  34.6  10.4  17.9  ...   \n",
      "462  358          Ja Morant  PG   24  MEM   9   9  35.3   8.9  18.9  ...   \n",
      "577  444   Domantas Sabonis   C   27  SAC  82  82  35.7   7.7  13.0  ...   \n",
      "662  515      Fred VanVleet  PG   29  HOU  73  73  36.8   5.8  13.9  ...   \n",
      "731  569         Trae Young  PG   25  ATL  54  54  36.0   8.0  18.7  ...   \n",
      "\n",
      "       FT%  ORB   DRB   TRB   AST  STL  BLK  TOV   PF   PTS  \n",
      "30   0.865  1.3   3.8   5.1   8.0  1.8  0.2  3.8  3.6  23.9  \n",
      "171  0.786  0.8   8.4   9.2   9.8  1.4  0.5  4.0  2.1  33.9  \n",
      "265  0.855  0.5   3.4   3.9  10.9  1.2  0.7  2.3  1.1  20.1  \n",
      "268  0.878  0.5   4.7   5.1   8.5  1.1  0.8  2.6  1.8  16.6  \n",
      "325  0.750  0.9   6.4   7.3   8.3  1.3  0.5  3.5  1.1  25.7  \n",
      "340  0.817  2.8   9.5  12.4   9.0  1.4  0.9  3.0  2.5  26.4  \n",
      "462  0.813  0.7   4.9   5.6   8.1  0.8  0.6  3.0  2.1  25.1  \n",
      "577  0.704  3.6  10.1  13.7   8.2  0.9  0.6  3.3  3.0  19.4  \n",
      "662  0.860  0.5   3.4   3.8   8.1  1.4  0.8  1.7  2.5  17.4  \n",
      "731  0.855  0.4   2.3   2.8  10.8  1.3  0.2  4.4  2.0  25.7  \n",
      "\n",
      "[10 rows x 30 columns]\n"
     ]
    }
   ],
   "source": [
    "import pandas as pd\n",
    "import pathlib\n",
    "import os\n",
    "import pandas as pd\n",
    "os.chdir(\"c:/Users/W0304991/Downloads\")\n",
    "\n",
    "df = pd.read_csv(\"nbaregular.csv\", encoding = \"ISO-8859-1\", sep = ';')\n",
    "\n",
    "print(df.loc[df['AST'] > 7.5]) "
   ]
  }
 ],
 "metadata": {
  "kernelspec": {
   "display_name": "Python 3 (ipykernel)",
   "language": "python",
   "name": "python3"
  },
  "language_info": {
   "codemirror_mode": {
    "name": "ipython",
    "version": 3
   },
   "file_extension": ".py",
   "mimetype": "text/x-python",
   "name": "python",
   "nbconvert_exporter": "python",
   "pygments_lexer": "ipython3",
   "version": "3.12.6"
  }
 },
 "nbformat": 4,
 "nbformat_minor": 5
}
