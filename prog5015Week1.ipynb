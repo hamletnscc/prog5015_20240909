{
 "cells": [
  {
   "cell_type": "code",
   "execution_count": 2,
   "id": "1d0fd7c5-ce20-4872-99d6-e0e0a6fb3aab",
   "metadata": {},
   "outputs": [
    {
     "name": "stdout",
     "output_type": "stream",
     "text": [
      "ajshfalksdh\n"
     ]
    }
   ],
   "source": [
    "print(\"ajshfalksdh\")\n"
   ]
  },
  {
   "cell_type": "code",
   "execution_count": 6,
   "id": "f3de832d-4ec5-4466-86ff-5c8aeb1d7c48",
   "metadata": {},
   "outputs": [
    {
     "name": "stdout",
     "output_type": "stream",
     "text": [
      "Hamlet\n",
      "Hamlet\n"
     ]
    }
   ],
   "source": [
    "name = \"Hamlet\"\n",
    "name2 = name\n",
    "print(name2)\n",
    "name = \"2b or not 2b\"\n",
    "print(name2)"
   ]
  },
  {
   "cell_type": "code",
   "execution_count": 10,
   "id": "08391434-63d2-4ad3-aed3-fe89cb27486f",
   "metadata": {},
   "outputs": [
    {
     "ename": "IndentationError",
     "evalue": "unexpected indent (3345983922.py, line 5)",
     "output_type": "error",
     "traceback": [
      "\u001b[1;36m  Cell \u001b[1;32mIn[10], line 5\u001b[1;36m\u001b[0m\n\u001b[1;33m    hungry = False\u001b[0m\n\u001b[1;37m    ^\u001b[0m\n\u001b[1;31mIndentationError\u001b[0m\u001b[1;31m:\u001b[0m unexpected indent\n"
     ]
    }
   ],
   "source": [
    "x = 0.5\n",
    "print(type(x))\n",
    "x = \"Hamlet\"\n",
    "print(type(x))\n",
    "hungry = False"
   ]
  },
  {
   "cell_type": "code",
   "execution_count": 12,
   "id": "ee880c67-33ce-4413-9fe9-7e8afdc77326",
   "metadata": {},
   "outputs": [
    {
     "name": "stdout",
     "output_type": "stream",
     "text": [
      "<class 'str'>\n",
      "<class 'int'>\n",
      "<class 'float'>\n",
      "<class 'bool'>\n"
     ]
    }
   ],
   "source": [
    "name = \"Hamlet\" #str\n",
    "age = 25 #int\n",
    "height = 250.5 #float\n",
    "studentStatus = False #boolean\n",
    "print(type(name))\n",
    "print(type(age))\n",
    "print(type(height))\n",
    "print(type(studentStatus))"
   ]
  },
  {
   "cell_type": "code",
   "execution_count": 14,
   "id": "96432eb9-13ab-445d-9935-da08a1622cea",
   "metadata": {},
   "outputs": [
    {
     "name": "stdout",
     "output_type": "stream",
     "text": [
      "Name: Hamlet\n",
      " Age: 25\n"
     ]
    }
   ],
   "source": [
    "print(f\"Name: {name}\\n Age: {age}\")"
   ]
  },
  {
   "cell_type": "code",
   "execution_count": 12,
   "id": "ca1f96a0-cbe9-4712-94a8-ca12eb16ee48",
   "metadata": {},
   "outputs": [
    {
     "name": "stdout",
     "output_type": "stream",
     "text": [
      "num_1: 1\n"
     ]
    }
   ],
   "source": [
    "num_1 = 1\n",
    "num_2 = 4\n",
    "num_3 = 5\n",
    "num_4 = 5\n",
    "print(f\"num_1: {num_1}\")\n",
    "\n",
    "\n"
   ]
  },
  {
   "cell_type": "code",
   "execution_count": 23,
   "id": "e3c37d8e-021b-4a64-8c9c-743da9e26de6",
   "metadata": {},
   "outputs": [
    {
     "name": "stdout",
     "output_type": "stream",
     "text": [
      "1,4,5,10,\n",
      "1,4,3.14,10,\n",
      "[1, 4, 3.14, 10, 20]\n",
      "[1, 14, 4, 3.14, 10, 20]\n",
      "[14, 4, 3.14, 10, 20]\n"
     ]
    }
   ],
   "source": [
    "#Declare and iterate through a list\n",
    "nums = [1, 4, 5, 10]\n",
    "for i in range(0, len(nums)):\n",
    "    print(nums[i], end=',')\n",
    "\n",
    "#change the value of an element in a list\n",
    "print()\n",
    "nums[2] = 3.14\n",
    "for i in range(0, len(nums)):\n",
    "    print(nums[i], end=',')\n",
    "\n",
    "#add an item to the list\n",
    "print()\n",
    "nums.append(20)\n",
    "print(nums)\n",
    "nums.insert(1,14)\n",
    "print(nums)\n",
    "\n",
    "#removine and item from the list\n",
    "nums.remove(1)\n",
    "print(nums)"
   ]
  },
  {
   "cell_type": "code",
   "execution_count": 6,
   "id": "b6723258-261a-4cf4-94e0-c6d4aa5ed1c1",
   "metadata": {},
   "outputs": [
    {
     "name": "stdout",
     "output_type": "stream",
     "text": [
      "2\n"
     ]
    }
   ],
   "source": [
    "#A list withint a list, i.e. 2d array/list\n",
    "a_2d_list = [[0, 1, 2], [3, 4, 5], [6, 7, 8]]\n",
    "print(a_2d_list[0][2])"
   ]
  },
  {
   "cell_type": "code",
   "execution_count": 33,
   "id": "ebc03e90-2196-4b9f-93f5-d9e917e85ecc",
   "metadata": {},
   "outputs": [
    {
     "name": "stdout",
     "output_type": "stream",
     "text": [
      "(1, 2, 3, 4, 5, 6)\n",
      "(1, 2, 3, 4, 5, 6, 1, 2, 3, 4, 5, 6)\n"
     ]
    }
   ],
   "source": [
    "#declare a list\n",
    "a_list = [1,2,3]\n",
    "a_list2 = list()\n",
    "a_list2.append(1)\n",
    "a_list2.append(2)\n",
    "a_list2.append(3)\n",
    "a_list[1] = 5\n",
    "\n",
    "#declare a tuple\n",
    "a_tuple = (1,2,3)\n",
    "a_tuple2 = a_tuple + (4,5,6)\n",
    "a_tuple = a_tuple2 + a_tuple2\n",
    "print(a_tuple2)\n",
    "print(a_tuple)\n",
    "\n"
   ]
  },
  {
   "cell_type": "code",
   "execution_count": 38,
   "id": "ffb435fd-d646-446b-91f7-a460447dccda",
   "metadata": {},
   "outputs": [
    {
     "name": "stdout",
     "output_type": "stream",
     "text": [
      "Size of a_list: 72\n",
      "Size of a_tuple: 56\n"
     ]
    }
   ],
   "source": [
    "import sys\n",
    "a_list = [2, 4]\n",
    "a_tuple = (2, 4)\n",
    "print(f\"Size of a_list: {sys.getsizeof(a_list)}\")\n",
    "print(f\"Size of a_tuple: {sys.getsizeof(a_tuple)}\")"
   ]
  },
  {
   "cell_type": "code",
   "execution_count": 41,
   "id": "b76159bf-900f-4318-851e-2b7dfb31cfa9",
   "metadata": {},
   "outputs": [
    {
     "name": "stdout",
     "output_type": "stream",
     "text": [
      "Hello Hamlet from a function\n",
      "Hello Emeka from a function\n"
     ]
    }
   ],
   "source": [
    "def my_function(name):\n",
    "  print(f\"Hello {name} from a function\")\n",
    "my_function(\"Hamlet\")\n",
    "my_function(\"Emeka\")"
   ]
  },
  {
   "cell_type": "code",
   "execution_count": 53,
   "id": "68860ce0-7954-43df-8b05-59874faf9c66",
   "metadata": {},
   "outputs": [
    {
     "data": {
      "application/vnd.jupyter.widget-view+json": {
       "model_id": "f74d590b80c34f248ef6fd757fffb531",
       "version_major": 2,
       "version_minor": 0
      },
      "text/plain": [
       "interactive(children=(Text(value='Hamlet', description='name'), Output()), _dom_classes=('widget-interact',))"
      ]
     },
     "metadata": {},
     "output_type": "display_data"
    },
    {
     "data": {
      "application/vnd.jupyter.widget-view+json": {
       "model_id": "7beda7e4d25e45e89d6b33ddd9c59c20",
       "version_major": 2,
       "version_minor": 0
      },
      "text/plain": [
       "interactive(children=(FloatSlider(value=4.0, description='x', max=12.0, min=-4.0), Output()), _dom_classes=('w…"
      ]
     },
     "metadata": {},
     "output_type": "display_data"
    },
    {
     "data": {
      "text/plain": [
       "<function __main__.my_function2(x)>"
      ]
     },
     "execution_count": 53,
     "metadata": {},
     "output_type": "execute_result"
    }
   ],
   "source": [
    "from ipywidgets import interact\n",
    "#print(f\"Size of ipywidgets: {sys.getsizeof(ipywidgets)}\")\n",
    "#print(f\"Size of interact: {sys.getsizeof(ipywidgets.interact)}\")\n",
    "def my_function(name):\n",
    "  print(f\"Hello {name} from a function\")\n",
    "\n",
    "interact(my_function, name=\"Hamlet\")\n",
    "\n",
    "#instead of textbox, depending on the return type, the UI can be a slider\n",
    "def my_function2(x):\n",
    "    return x*1.5;\n",
    "\n",
    "interact(my_function2, x=4.0)\n"
   ]
  },
  {
   "cell_type": "code",
   "execution_count": 55,
   "id": "2575a4dc-0bde-4693-875b-d4fcdbb2dc59",
   "metadata": {},
   "outputs": [
    {
     "data": {
      "application/vnd.jupyter.widget-view+json": {
       "model_id": "939cc55dd31c4c6e9e76ea0fc4205ad7",
       "version_major": 2,
       "version_minor": 0
      },
      "text/plain": [
       "interactive(children=(Dropdown(description='name', options=('Hamlet', 'James', 'McBath'), value='Hamlet'), Out…"
      ]
     },
     "metadata": {},
     "output_type": "display_data"
    },
    {
     "data": {
      "text/plain": [
       "<function __main__.drop_down_menu(name)>"
      ]
     },
     "execution_count": 55,
     "metadata": {},
     "output_type": "execute_result"
    }
   ],
   "source": [
    "def drop_down_menu(name):\n",
    "  print(f\"Hello {name} from a function\")\n",
    "interact(drop_down_menu, name=[\"Hamlet\", \"James\", \"McBath\"])"
   ]
  },
  {
   "cell_type": "code",
   "execution_count": 64,
   "id": "c3a0639b-efe5-45e6-aafa-8b317b60aca7",
   "metadata": {},
   "outputs": [
    {
     "data": {
      "application/vnd.jupyter.widget-view+json": {
       "model_id": "7a3ff49e64ae46abb8fd8f3b25368d0d",
       "version_major": 2,
       "version_minor": 0
      },
      "text/plain": [
       "interactive(children=(Text(value='1.0', description='side_1'), Text(value='1.0', description='side_2'), Output…"
      ]
     },
     "metadata": {},
     "output_type": "display_data"
    },
    {
     "data": {
      "text/plain": [
       "<function __main__.pythagorean(side_1, side_2)>"
      ]
     },
     "execution_count": 64,
     "metadata": {},
     "output_type": "execute_result"
    }
   ],
   "source": [
    "# Import math Library\n",
    "import math\n",
    "def pythagorean(side_1, side_2):\n",
    "    return math.sqrt((float(side_1)**2 + float(side_2)**2))\n",
    "interact(pythagorean, side_1=\"1.0\", side_2=\"1.0\")"
   ]
  },
  {
   "cell_type": "code",
   "execution_count": 9,
   "id": "9b18ae48-c260-4d31-b3c0-cbb4a614c5b1",
   "metadata": {},
   "outputs": [
    {
     "data": {
      "image/png": "[encoded data removed]",
      "text/plain": [
       "<Figure size 640x480 with 1 Axes>"
      ]
     },
     "metadata": {},
     "output_type": "display_data"
    }
   ],
   "source": [
    "#import matplotlib.pyplot as plt\n",
    "from matplotlib import pyplot\n",
    "pyplot.plot([2, 4, 3, 2, 5])\n",
    "pyplot.ylabel('km')\n",
    "pyplot.xlabel('Day')\n",
    "pyplot.show()"
   ]
  },
  {
   "cell_type": "code",
   "execution_count": 10,
   "id": "26f603de-8ef7-43e6-baf0-0dbb11f5f907",
   "metadata": {},
   "outputs": [
    {
     "data": {
      "application/vnd.jupyter.widget-view+json": {
       "model_id": "2f5cb9e36c4646b282f2e935120b4460",
       "version_major": 2,
       "version_minor": 0
      },
      "text/plain": [
       "interactive(children=(FloatSlider(value=8.0, description='cycle', max=24.0, min=-8.0), Output()), _dom_classes…"
      ]
     },
     "metadata": {},
     "output_type": "display_data"
    },
    {
     "data": {
      "text/plain": [
       "<function __main__.plot_sine(cycle=8)>"
      ]
     },
     "execution_count": 10,
     "metadata": {},
     "output_type": "execute_result"
    }
   ],
   "source": [
    "import math\n",
    "from ipywidgets import interact\n",
    "import numpy\n",
    "from matplotlib import pyplot\n",
    "# Python Programming illustrating \n",
    "# numpy.linspace method \n",
    "\n",
    "\n",
    "def plot_sine(cycle = 8):\n",
    "    points = numpy.linspace(math.pi, -math.pi*cycle, num=1000) #generate a series of number between the given range\n",
    "    pyplot.plot(numpy.sin(points))\n",
    "    pyplot.xlabel('Wave Form Visualizer')\n",
    "    pyplot.show()\n",
    "\n",
    "interact(plot_sine, cycle = 8.0)"
   ]
  },
  {
   "cell_type": "code",
   "execution_count": 12,
   "id": "a07d366b-7127-4090-946f-f5c1ee559b62",
   "metadata": {},
   "outputs": [
    {
     "data": {
      "image/png": "[encoded data removed]",
      "text/plain": [
       "<Figure size 2000x480 with 1 Axes>"
      ]
     },
     "metadata": {},
     "output_type": "display_data"
    }
   ],
   "source": [
    "#plotting the population of NS between 2000 to 2024 Q2\n",
    "#data from https://www150.statcan.gc.ca/t1/tbl1/\n",
    "import numpy\n",
    "import math\n",
    "import matplotlib.dates as mdates\n",
    "from matplotlib import pyplot\n",
    "nsPopulation = [934594,934291,933821,934459,933463,932909,932483,933318,933757,934165,935172,935959,935495,935775,937681,938744,938946,938738,939625,939855,939202,937989,937931,938755,938120,937665,937880,937060,936232,935028,935164,935433,935540,935704,935965,937108,937445,937489,938266,940558,940879,940967,942144,944201,944082,943921,944095,944645,943907,943317,943163,942829,942045,940647,939808,939442,939166,938175,937768,938157,937442,935380,937419,938914,938973,940471,942984,946623,947023,948945,952159,956074,956711,957883,962072,967578,968724,970680,975799,982592,984130,986204,989168,989154,990025,993946,999908,1006805,1010460,1014827,1025445,1035666,1040195,1047803,1058694,1066416,1069364,1072545]\n",
    "yearTicks = ['Q1 2000','Q2 2000','Q3 2000','Q4 2000','Q1 2001','Q2 2001','Q3 2001','Q4 2001','Q1 2002','Q2 2002','Q3 2002','Q4 2002','Q1 2003','Q2 2003','Q3 2003','Q4 2003','Q1 2004','Q2 2004','Q3 2004','Q4 2004','Q1 2005','Q2 2005','Q3 2005','Q4 2005','Q1 2006','Q2 2006','Q3 2006','Q4 2006','Q1 2007','Q2 2007','Q3 2007','Q4 2007','Q1 2008','Q2 2008','Q3 2008','Q4 2008','Q1 2009','Q2 2009','Q3 2009','Q4 2009','Q1 2010','Q2 2010','Q3 2010','Q4 2010','Q1 2011','Q2 2011','Q3 2011','Q4 2011','Q1 2012','Q2 2012','Q3 2012','Q4 2012','Q1 2013','Q2 2013','Q3 2013','Q4 2013','Q1 2014','Q2 2014','Q3 2014','Q4 2014','Q1 2015','Q2 2015','Q3 2015','Q4 2015','Q1 2016','Q2 2016','Q3 2016','Q4 2016','Q1 2017','Q2 2017','Q3 2017','Q4 2017','Q1 2018','Q2 2018','Q3 2018','Q4 2018','Q1 2019','Q2 2019','Q3 2019','Q4 2019','Q1 2020','Q2 2020','Q3 2020','Q4 2020','Q1 2021','Q2 2021','Q3 2021','Q4 2021','Q1 2022','Q2 2022','Q3 2022','Q4 2022','Q1 2023','Q2 2023','Q3 2023','Q4 2023','Q1 2024','Q2 2024']             \n",
    "\n",
    "fig, ax = pyplot.subplots()\n",
    "ax.ticklabel_format(useOffset=False, style='plain')\n",
    "fig.set_figwidth(20)\n",
    "pyplot.plot(yearTicks, nsPopulation)\n",
    "pyplot.xticks(yearTicks, rotation='vertical')\n",
    "pyplot.xlabel('NS Population (2000 - 2024)')\n",
    "\n",
    "pyplot.show()"
   ]
  },
  {
   "cell_type": "code",
   "execution_count": null,
   "id": "d1b5bac2-1364-414b-b6cb-a892741fabca",
   "metadata": {},
   "outputs": [],
   "source": [
    "#"
   ]
  }
 ],
 "metadata": {
  "kernelspec": {
   "display_name": "Python 3 (ipykernel)",
   "language": "python",
   "name": "python3"
  },
  "language_info": {
   "codemirror_mode": {
    "name": "ipython",
    "version": 3
   },
   "file_extension": ".py",
   "mimetype": "text/x-python",
   "name": "python",
   "nbconvert_exporter": "python",
   "pygments_lexer": "ipython3",
   "version": "3.12.6"
  }
 },
 "nbformat": 4,
 "nbformat_minor": 5
}
