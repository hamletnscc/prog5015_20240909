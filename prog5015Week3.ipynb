{
 "cells": [
  {
   "cell_type": "markdown",
   "id": "d2381dc3-2a18-49cd-abe8-93308a7307e2",
   "metadata": {},
   "source": [
    "Install all required libraries\n",
    "Including\n",
    "#hidapi\n",
    "#blinka\n",
    "\n",
    "Set enviornment variable in Terminal/Powershell\n",
    "Terminal command: set BLINKA_MCP2221=1\n",
    "Powershell command: $env:BLINKA_MCP2221=1\n"
   ]
  },
  {
   "cell_type": "code",
   "execution_count": 1,
   "id": "f13763e2-2f1e-41a1-8bfa-9b12e96920d2",
   "metadata": {
    "jupyter": {
     "source_hidden": true
    }
   },
   "outputs": [],
   "source": [
    "#Check hidapi is installed correctly"
   ]
  },
  {
   "cell_type": "code",
   "execution_count": 1,
   "id": "f5250a85-587d-4011-9a7e-7dd1347573c1",
   "metadata": {},
   "outputs": [
    {
     "data": {
      "text/plain": [
       "['G0',\n",
       " 'G1',\n",
       " 'G2',\n",
       " 'G3',\n",
       " 'I2C',\n",
       " 'SCL',\n",
       " 'SDA',\n",
       " '__blinka__',\n",
       " '__builtins__',\n",
       " '__cached__',\n",
       " '__doc__',\n",
       " '__file__',\n",
       " '__loader__',\n",
       " '__name__',\n",
       " '__package__',\n",
       " '__repo__',\n",
       " '__spec__',\n",
       " '__version__',\n",
       " 'ap_board',\n",
       " 'board_id',\n",
       " 'detector',\n",
       " 'pin',\n",
       " 'sys']"
      ]
     },
     "execution_count": 1,
     "metadata": {},
     "output_type": "execute_result"
    }
   ],
   "source": [
    "#Check if platform was detected\n",
    "#import sys,os,os.path\n",
    "#os.environ['BLINKA_MCP2221']='1'\n",
    "\n",
    "import board\n",
    "dir(board)"
   ]
  },
  {
   "cell_type": "code",
   "execution_count": null,
   "id": "051bde50-f68e-45cf-8355-59df5923e3e5",
   "metadata": {},
   "outputs": [],
   "source": [
    "#Check that MCP2221 can be found\n",
    "import time\n",
    "import board\n",
    "import digitalio\n",
    "led = digitalio.DigitalInOut(board.G0)\n",
    "led.direction = digitalio.Direction.OUTPUT\n",
    "while True:\n",
    "    led.value = True\n",
    "    time.sleep(0.5)\n",
    "    led.value = False\n",
    "    time.sleep(0.5)"
   ]
  },
  {
   "cell_type": "code",
   "execution_count": null,
   "id": "3f99703f-229c-4695-8262-72947828317b",
   "metadata": {},
   "outputs": [],
   "source": [
    "#Check env variable within Python"
   ]
  },
  {
   "cell_type": "code",
   "execution_count": null,
   "id": "2ffdd010-43c8-49af-8f2d-1ba9cee41603",
   "metadata": {},
   "outputs": [],
   "source": []
  }
 ],
 "metadata": {
  "kernelspec": {
   "display_name": "Python 3 (ipykernel)",
   "language": "python",
   "name": "python3"
  },
  "language_info": {
   "codemirror_mode": {
    "name": "ipython",
    "version": 3
   },
   "file_extension": ".py",
   "mimetype": "text/x-python",
   "name": "python",
   "nbconvert_exporter": "python",
   "pygments_lexer": "ipython3",
   "version": "3.12.6"
  }
 },
 "nbformat": 4,
 "nbformat_minor": 5
}
