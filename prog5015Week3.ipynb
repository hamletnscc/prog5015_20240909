{
 "cells": [
  {
   "cell_type": "markdown",
   "id": "d2381dc3-2a18-49cd-abe8-93308a7307e2",
   "metadata": {},
   "source": [
    "Install all required libraries\n",
    "Including\n",
    "#hidapi\n",
    "#blinka\n",
    "\n",
    "Set enviornment variable in Terminal/Powershell\n",
    "Terminal command: set BLINKA_MCP2221=1\n",
    "Powershell command: $env:BLINKA_MCP2221=1\n"
   ]
  },
  {
   "cell_type": "code",
   "execution_count": 1,
   "id": "f13763e2-2f1e-41a1-8bfa-9b12e96920d2",
   "metadata": {
    "jupyter": {
     "source_hidden": true
    }
   },
   "outputs": [],
   "source": [
    "#Check hidapi is installed correctly"
   ]
  },
  {
   "cell_type": "code",
   "execution_count": 2,
   "id": "f5250a85-587d-4011-9a7e-7dd1347573c1",
   "metadata": {},
   "outputs": [
    {
     "data": {
      "text/plain": [
       "['G0',\n",
       " 'G1',\n",
       " 'G2',\n",
       " 'G3',\n",
       " 'I2C',\n",
       " 'SCL',\n",
       " 'SDA',\n",
       " '__blinka__',\n",
       " '__builtins__',\n",
       " '__cached__',\n",
       " '__doc__',\n",
       " '__file__',\n",
       " '__loader__',\n",
       " '__name__',\n",
       " '__package__',\n",
       " '__repo__',\n",
       " '__spec__',\n",
       " '__version__',\n",
       " 'ap_board',\n",
       " 'board_id',\n",
       " 'detector',\n",
       " 'pin',\n",
       " 'sys']"
      ]
     },
     "execution_count": 2,
     "metadata": {},
     "output_type": "execute_result"
    }
   ],
   "source": [
    "#Check if platform was detected\n",
    "#import sys,os,os.path\n",
    "#os.environ['BLINKA_MCP2221']='1'\n",
    "\n",
    "import board\n",
    "dir(board)"
   ]
  },
  {
   "cell_type": "code",
   "execution_count": 2,
   "id": "051bde50-f68e-45cf-8355-59df5923e3e5",
   "metadata": {},
   "outputs": [
    {
     "ename": "KeyboardInterrupt",
     "evalue": "",
     "output_type": "error",
     "traceback": [
      "\u001b[1;31m---------------------------------------------------------------------------\u001b[0m",
      "\u001b[1;31mKeyboardInterrupt\u001b[0m                         Traceback (most recent call last)",
      "Cell \u001b[1;32mIn[2], line 11\u001b[0m\n\u001b[0;32m      9\u001b[0m time\u001b[38;5;241m.\u001b[39msleep(\u001b[38;5;241m0.1\u001b[39m)\n\u001b[0;32m     10\u001b[0m led\u001b[38;5;241m.\u001b[39mvalue \u001b[38;5;241m=\u001b[39m \u001b[38;5;28;01mFalse\u001b[39;00m\n\u001b[1;32m---> 11\u001b[0m \u001b[43mtime\u001b[49m\u001b[38;5;241;43m.\u001b[39;49m\u001b[43msleep\u001b[49m\u001b[43m(\u001b[49m\u001b[38;5;241;43m0.1\u001b[39;49m\u001b[43m)\u001b[49m\n",
      "\u001b[1;31mKeyboardInterrupt\u001b[0m: "
     ]
    }
   ],
   "source": [
    "#Check that MCP2221 can be found\n",
    "import time\n",
    "import board\n",
    "import digitalio\n",
    "led = digitalio.DigitalInOut(board.G0)\n",
    "led.direction = digitalio.Direction.OUTPUT\n",
    "while True:\n",
    "    led.value = True\n",
    "    time.sleep(0.1)\n",
    "    led.value = False\n",
    "    time.sleep(0.1)"
   ]
  },
  {
   "cell_type": "code",
   "execution_count": null,
   "id": "3f99703f-229c-4695-8262-72947828317b",
   "metadata": {},
   "outputs": [],
   "source": [
    "#Check env variable within Python"
   ]
  },
  {
   "cell_type": "code",
   "execution_count": 4,
   "id": "2ffdd010-43c8-49af-8f2d-1ba9cee41603",
   "metadata": {},
   "outputs": [
    {
     "ename": "NameError",
     "evalue": "name 'volts' is not defined",
     "output_type": "error",
     "traceback": [
      "\u001b[1;31m---------------------------------------------------------------------------\u001b[0m",
      "\u001b[1;31mNameError\u001b[0m                                 Traceback (most recent call last)",
      "Cell \u001b[1;32mIn[4], line 12\u001b[0m\n\u001b[0;32m      8\u001b[0m     \u001b[38;5;28;01mreturn\u001b[39;00m (raw \u001b[38;5;241m*\u001b[39m \u001b[38;5;241m3.3\u001b[39m) \u001b[38;5;241m/\u001b[39m \u001b[38;5;241m65536\u001b[39m\n\u001b[0;32m     11\u001b[0m raw \u001b[38;5;241m=\u001b[39m knob\u001b[38;5;241m.\u001b[39mvalue \n\u001b[1;32m---> 12\u001b[0m display\u001b[38;5;241m.\u001b[39mdisplay(\u001b[38;5;124m\"\u001b[39m\u001b[38;5;124mraw = \u001b[39m\u001b[38;5;132;01m{:5d}\u001b[39;00m\u001b[38;5;124m volts = \u001b[39m\u001b[38;5;132;01m{:5.2f}\u001b[39;00m\u001b[38;5;124m\"\u001b[39m\u001b[38;5;241m.\u001b[39mformat(raw, \u001b[43mvolts\u001b[49m))    \n\u001b[0;32m     13\u001b[0m \u001b[38;5;28;01mwhile\u001b[39;00m \u001b[38;5;28;01mTrue\u001b[39;00m:\n\u001b[0;32m     14\u001b[0m     raw \u001b[38;5;241m=\u001b[39m knob\u001b[38;5;241m.\u001b[39mvalue\n",
      "\u001b[1;31mNameError\u001b[0m: name 'volts' is not defined"
     ]
    }
   ],
   "source": [
    "import time\n",
    "import board\n",
    "from analogio import AnalogIn\n",
    "from IPython import display\n",
    "knob = AnalogIn(board.G1)\n",
    "\n",
    "def get_voltage(raw):\n",
    "    return (raw * 3.3) / 65536\n",
    "\n",
    "\n",
    "raw = knob.value \n",
    "display.display(\"raw = {:5d} volts = {:5.2f}\".format(raw, volts))    \n",
    "while True:\n",
    "    raw = knob.value\n",
    "    volts = get_voltage(raw)\n",
    "    #print(\"raw = {:5d} volts = {:5.2f}\".format(raw, volts))    \n",
    "    display.update(\"raw = {:5d} volts = {:5.2f}\".format(raw, volts))    \n",
    "    time.sleep(0.5)"
   ]
  },
  {
   "cell_type": "code",
   "execution_count": null,
   "id": "ac6e3783-674a-4224-baac-f96c97e918f0",
   "metadata": {},
   "outputs": [
    {
     "data": {
      "text/plain": [
       "'raw = 45632 volts =  2.30  [  137]'"
      ]
     },
     "metadata": {},
     "output_type": "display_data"
    }
   ],
   "source": [
    "import time\n",
    "import board\n",
    "from analogio import AnalogIn\n",
    "from IPython import display\n",
    "\n",
    "knob = AnalogIn(board.G2)\n",
    "def get_voltage(raw):\n",
    "    return (raw * 3.3) / 65536\n",
    "\n",
    "raw = knob.value\n",
    "display.display(get_voltage(knob.value), display_id=\"1\")\n",
    "update_count = 0\n",
    "while True:\n",
    "    raw = knob.value\n",
    "    volts = get_voltage(raw)\n",
    "    #print(\"raw = {:5d} volts = {:5.2f}\".format(raw, volts))\n",
    "    display.update_display(\"raw = {:5d} volts = {:5.2f}  [{:5d}]\".format(raw, volts, update_count), display_id=\"1\")\n",
    "    time.sleep(0.5)\n",
    "    update_count+=1\n"
   ]
  },
  {
   "cell_type": "code",
   "execution_count": null,
   "id": "c94ca903-441e-4070-907a-615873b6d6b5",
   "metadata": {},
   "outputs": [],
   "source": [
    "username = input(\"Type in your name: \")\n",
    "print(\"Hello, welcome to the adventure\")\n",
    "input(\"Which direction "
   ]
  }
 ],
 "metadata": {
  "kernelspec": {
   "display_name": "Python 3 (ipykernel)",
   "language": "python",
   "name": "python3"
  },
  "language_info": {
   "codemirror_mode": {
    "name": "ipython",
    "version": 3
   },
   "file_extension": ".py",
   "mimetype": "text/x-python",
   "name": "python",
   "nbconvert_exporter": "python",
   "pygments_lexer": "ipython3",
   "version": "3.12.6"
  }
 },
 "nbformat": 4,
 "nbformat_minor": 5
}
